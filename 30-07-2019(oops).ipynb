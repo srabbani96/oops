{
 "cells": [
  {
   "cell_type": "code",
   "execution_count": 2,
   "metadata": {},
   "outputs": [
    {
     "name": "stdout",
     "output_type": "stream",
     "text": [
      "hello, good morning\n"
     ]
    }
   ],
   "source": [
    "class Abc:\n",
    "    def printinfo (self):\n",
    "        print(\"hello, good morning\")\n",
    "        \n",
    "obj = Abc()     #object creation\n",
    "obj.printinfo() #method calling"
   ]
  },
  {
   "cell_type": "code",
   "execution_count": 8,
   "metadata": {},
   "outputs": [
    {
     "name": "stdout",
     "output_type": "stream",
     "text": [
      "28.274333882308138\n"
     ]
    }
   ],
   "source": [
    "import math\n",
    "class circle:\n",
    "    def Area(self,r):\n",
    "        print(math.pi*r*r)\n",
    "c1 = circle()\n",
    "c1.Area(3)\n",
    "       \n"
   ]
  },
  {
   "cell_type": "code",
   "execution_count": 9,
   "metadata": {},
   "outputs": [
    {
     "name": "stdout",
     "output_type": "stream",
     "text": [
      "78.53981633974483\n",
      "31.41592653589793\n"
     ]
    }
   ],
   "source": [
    "import math\n",
    "class circle:\n",
    "    def Area(self,r):\n",
    "        return math.pi*r*r\n",
    "    def perimeter(self,r):\n",
    "        return 2*math.pi*r\n",
    "obj= circle()\n",
    "print (obj.Area(5))\n",
    "print (obj.perimeter(5))"
   ]
  },
  {
   "cell_type": "code",
   "execution_count": 11,
   "metadata": {},
   "outputs": [
    {
     "name": "stdout",
     "output_type": "stream",
     "text": [
      "18.84955592153876\n"
     ]
    }
   ],
   "source": [
    "import math\n",
    "class circle:\n",
    "    def perimeter(self,r):\n",
    "        print(2*math.pi*r)\n",
    "c1 = circle()\n",
    "c1.perimeter(3)\n"
   ]
  },
  {
   "cell_type": "code",
   "execution_count": 13,
   "metadata": {},
   "outputs": [
    {
     "name": "stdout",
     "output_type": "stream",
     "text": [
      "28.274333882308138\n",
      "78.53981633974483\n"
     ]
    }
   ],
   "source": [
    "import math\n",
    "class circle: \n",
    "    def __init__(self,r):\n",
    "        self.r=r\n",
    "    def area(self):\n",
    "        print(math.pi*self.r*self.r)\n",
    "c1= circle(3)\n",
    "c1.area()\n",
    "c2= circle(5)\n",
    "9c2.area()"
   ]
  },
  {
   "cell_type": "code",
   "execution_count": null,
   "metadata": {},
   "outputs": [],
   "source": [
    "import math\n",
    "class  Mi:\n",
    "    def __init__(self,r): \n",
    "        self.r= r\n",
    "        "
   ]
  },
  {
   "cell_type": "markdown",
   "metadata": {},
   "source": [
    " # inheritence"
   ]
  },
  {
   "cell_type": "code",
   "execution_count": 31,
   "metadata": {},
   "outputs": [
    {
     "name": "stdout",
     "output_type": "stream",
     "text": [
      "camera is good\n"
     ]
    }
   ],
   "source": [
    "class vivo:\n",
    "    def adv(self):\n",
    "        \n",
    "        print (\"camera is good\")\n",
    "class Mi:\n",
    "    def bat(self):\n",
    "        \n",
    "        print(\"battery back up is goood\")\n",
    "v= vivo()\n",
    "v.adv()\n"
   ]
  },
  {
   "cell_type": "code",
   "execution_count": null,
   "metadata": {},
   "outputs": [],
   "source": []
  },
  {
   "cell_type": "markdown",
   "metadata": {},
   "source": [
    "## 1. single inheritence"
   ]
  },
  {
   "cell_type": "code",
   "execution_count": 22,
   "metadata": {},
   "outputs": [
    {
     "name": "stdout",
     "output_type": "stream",
     "text": [
      "camera is good\n"
     ]
    }
   ],
   "source": [
    "class Vivo:\n",
    "    def adv(self):\n",
    "        print(\"camera is good\")\n",
    "class Mi(Vivo):\n",
    "    def adv1(self):\n",
    "        print(\"battery backup is good\")\n",
    "m=Mi()\n",
    "m.adv()"
   ]
  },
  {
   "cell_type": "markdown",
   "metadata": {},
   "source": [
    "## 2. Multi inheritence"
   ]
  },
  {
   "cell_type": "code",
   "execution_count": 25,
   "metadata": {},
   "outputs": [
    {
     "name": "stdout",
     "output_type": "stream",
     "text": [
      "battery backup is good\n"
     ]
    }
   ],
   "source": [
    "class Nokia:\n",
    "    def adv(self):\n",
    "        print(\"camera is good\")\n",
    "class Mi(Nokia):\n",
    "    def adv1(self):\n",
    "        print(\"battery backup is good\")\n",
    "class Redmi(Mi):\n",
    "    def adv2(self):\n",
    "        print(\"selfi camera\")\n",
    "r= Redmi()\n",
    "r.adv1()"
   ]
  },
  {
   "cell_type": "markdown",
   "metadata": {},
   "source": [
    "##  3.multiple inheritence"
   ]
  },
  {
   "cell_type": "code",
   "execution_count": 26,
   "metadata": {},
   "outputs": [
    {
     "name": "stdout",
     "output_type": "stream",
     "text": [
      "selfi camera\n"
     ]
    }
   ],
   "source": [
    "class Nokia:\n",
    "    def adv(self):\n",
    "        print(\"camera is good\")\n",
    "class Mi():\n",
    "    def adv(self):\n",
    "        print(\"battery backup is good\")\n",
    "class Redmi(Nokia,Mi):\n",
    "    def adv(self):\n",
    "        print(\"selfi camera\")\n",
    "r= Redmi()\n",
    "r.adv()"
   ]
  },
  {
   "cell_type": "markdown",
   "metadata": {},
   "source": [
    "# hirerachy inheritence"
   ]
  },
  {
   "cell_type": "code",
   "execution_count": 27,
   "metadata": {},
   "outputs": [
    {
     "name": "stdout",
     "output_type": "stream",
     "text": [
      "selfi camera\n"
     ]
    }
   ],
   "source": [
    "class Nokia:\n",
    "    def adv(self):\n",
    "        print(\"camera is good\")\n",
    "class Mi(Nokia):\n",
    "    def adv(self):\n",
    "        print(\"battery backup is good\")\n",
    "class Redmi(Nokia):\n",
    "    def adv(self):\n",
    "        print(\"selfi camera\")\n",
    "r= Redmi()\n",
    "r.adv()"
   ]
  },
  {
   "cell_type": "markdown",
   "metadata": {},
   "source": [
    "# hybrid inheritence"
   ]
  },
  {
   "cell_type": "code",
   "execution_count": 30,
   "metadata": {},
   "outputs": [
    {
     "name": "stdout",
     "output_type": "stream",
     "text": [
      "battery backup is good\n"
     ]
    }
   ],
   "source": [
    "class Nokia:\n",
    "    def adv(self):\n",
    "        print(\"camera is good\")\n",
    "class Mi(Nokia):\n",
    "    def adv(self):\n",
    "        print(\"battery backup is good\")\n",
    "class Redmi(Mi, Nokia):\n",
    "    def adv(self):\n",
    "        print(\"selfi camera\")\n",
    "r= Mi()\n",
    "r.adv()"
   ]
  },
  {
   "cell_type": "code",
   "execution_count": 42,
   "metadata": {},
   "outputs": [
    {
     "name": "stdout",
     "output_type": "stream",
     "text": [
      "hello basha\n"
     ]
    }
   ],
   "source": [
    "def printinfo():\n",
    "    print(\"hello...\")\n",
    "def printinfo(name):\n",
    "    print(\"hello\",name)\n",
    "    \n",
    "\n",
    "printinfo(\"basha\")\n",
    "\n"
   ]
  },
  {
   "cell_type": "code",
   "execution_count": 34,
   "metadata": {},
   "outputs": [
    {
     "name": "stdout",
     "output_type": "stream",
     "text": [
      "140713218716784 140713218717104\n"
     ]
    }
   ],
   "source": [
    "x= 10\n",
    "y=20\n",
    "print(id(x),id(y))"
   ]
  },
  {
   "cell_type": "code",
   "execution_count": 36,
   "metadata": {},
   "outputs": [
    {
     "name": "stdout",
     "output_type": "stream",
     "text": [
      "140713218716784 140713218716784 140713218716784\n"
     ]
    }
   ],
   "source": [
    "x= 10\n",
    "y=10\n",
    "z=10\n",
    "print(id(x),id(y),id(z))"
   ]
  },
  {
   "cell_type": "code",
   "execution_count": 43,
   "metadata": {},
   "outputs": [
    {
     "name": "stdout",
     "output_type": "stream",
     "text": [
      "hello\n"
     ]
    }
   ],
   "source": [
    "class A:\n",
    "    def disp(self):\n",
    "        pass\n",
    "class B(A):\n",
    "    def disp(self):\n",
    "        print(\"hello\")\n",
    "    \n",
    "b=B()\n",
    "b.disp()\n",
    "    "
   ]
  },
  {
   "cell_type": "markdown",
   "metadata": {},
   "source": [
    "#  encapsulation"
   ]
  },
  {
   "cell_type": "code",
   "execution_count": null,
   "metadata": {},
   "outputs": [],
   "source": []
  }
 ],
 "metadata": {
  "kernelspec": {
   "display_name": "Python 3",
   "language": "python",
   "name": "python3"
  },
  "language_info": {
   "codemirror_mode": {
    "name": "ipython",
    "version": 3
   },
   "file_extension": ".py",
   "mimetype": "text/x-python",
   "name": "python",
   "nbconvert_exporter": "python",
   "pygments_lexer": "ipython3",
   "version": "3.7.1"
  }
 },
 "nbformat": 4,
 "nbformat_minor": 2
}
